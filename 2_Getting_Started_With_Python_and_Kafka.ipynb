{
 "cells": [
  {
   "cell_type": "markdown",
   "id": "ffa50b2d",
   "metadata": {},
   "source": [
    "\n",
    "\n",
    "<div style=\"padding: 60px;\n",
    "  text-align: center;\n",
    "  background: #d4afb9;\n",
    "  color: #003049;\n",
    "  font-size: 20px;\">\n",
    "  <h2>Python for Flat Data Processing</h2>\n",
    "   <hr>\n",
    "</div>\n",
    "\n",
    "\n",
    "- **Develop By** : Dwi Gustin Nurdialit\n",
    "- **Last Updated**: February 2025"
   ]
  },
  {
   "cell_type": "markdown",
   "id": "fb78fb8c",
   "metadata": {},
   "source": [
    "**Table of contents**<a id='toc0_'></a>    \n",
    "- [Training Objectives](#toc1_1_)    \n",
    "- [Introduction to Jupyter Notebook in VS Code](#toc2_)    \n",
    "  - [Markdown Cell and Code Cell](#toc2_1_)    \n",
    "    - [Markdown](#toc2_1_1_)    \n",
    "    - [Code](#toc2_1_2_)    \n",
    "  - [Shortcuts](#toc2_2_)    \n",
    "- [Introduction to Python](#toc3_)    \n",
    "  - [Variables and Keywords](#toc3_1_)    \n",
    "  - [Python Data Types](#toc3_2_)    \n",
    "    - [String](#toc3_2_1_)    \n",
    "    - [Number](#toc3_2_2_)    \n",
    "    - [Boolean](#toc3_2_3_)    \n",
    "  - [Python Data Structures](#toc3_3_)    \n",
    "    - [List](#toc3_3_1_)    \n",
    "    - [Dictionary](#toc3_3_2_)    \n",
    "  - [Struktur Kontrol](#toc3_4_)    \n",
    "    - [Kondisi (if, elif, else)](#toc3_4_1_)    \n",
    "    - [Loop (for)](#toc3_4_2_)    \n",
    "  - [Fungsi](#toc3_5_)    \n",
    "  - [Library di Python](#toc3_6_)    \n",
    "    - [Installasi](#toc3_6_1_)    \n",
    "    - [Import](#toc3_6_2_)    \n",
    "    - [Fungsionalitas Library](#toc3_6_3_)    \n",
    "      - [Penggunaan Fungsi, Parameter, Argument](#toc3_6_3_1_)    \n",
    "- [Introduction to Library (Package)](#toc4_)    \n",
    "  - [Import a Library](#toc4_1_)    \n",
    "- [Pandas Library](#toc5_)    \n",
    "  - [Working with DataFrame](#toc5_1_)    \n",
    "- [📥 Importing Data](#toc6_)    \n",
    "  - [📊 Data](#toc6_1_)    \n",
    "  - [📄 Flat Data](#toc6_2_)    \n",
    "  - [📑 Reading CSV Files (`pd.read_csv()`)](#toc6_3_)    \n",
    "    - [🔹 Contoh Membaca File CSV](#toc6_3_1_)    \n",
    "- [🌐 Fetching Data from an API (`yfinance`)](#toc7_)    \n",
    "  - [🔍 Apa itu API?](#toc7_1_)    \n",
    "  - [📈 Mengenal `yfinance`](#toc7_2_)    \n",
    "  - [🔹 Cara Menggunakan `yfinance`](#toc7_3_)    \n",
    "- [⚙️ Pandas DataFrame Operations](#toc8_)    \n",
    "  - [✂️ Subsetting](#toc8_1_)    \n",
    "    - [🔹 Contoh Subsetting Kolom](#toc8_1_1_)    \n",
    "  - [🔄 Slicing MultiIndex DataFrame](#toc8_2_)    \n",
    "    - [🔹 Problem MultiIndex](#toc8_2_1_)    \n",
    "    - [🔹 Contoh Menggunakan `.xs()`](#toc8_2_2_)    \n",
    "- [📊 Data Analysis and Visualization](#toc9_)    \n",
    "    - [🔍 Data Aggregation](#toc9_1_1_)    \n",
    "      - [🧑‍💻 `groupby()`](#toc9_1_1_1_)    \n",
    "    - [Additional: Datetime Partition](#toc9_1_2_)    \n",
    "      - [⚙️ Aggregate Functions (`agg()`)](#toc9_1_2_1_)    \n",
    "    - [📈 Data Visualization](#toc9_1_3_)    \n",
    "      - [📊 Basic Plotting with Pandas (`df.plot()`)](#toc9_1_3_1_)    \n",
    "\n",
    "<!-- vscode-jupyter-toc-config\n",
    "\tnumbering=false\n",
    "\tanchor=true\n",
    "\tflat=false\n",
    "\tminLevel=1\n",
    "\tmaxLevel=6\n",
    "\t/vscode-jupyter-toc-config -->\n",
    "<!-- THIS CELL WILL BE REPLACED ON TOC UPDATE. DO NOT WRITE YOUR TEXT IN THIS CELL -->"
   ]
  },
  {
   "cell_type": "markdown",
   "id": "b60cacd8",
   "metadata": {},
   "source": [
    "## <a id='toc1_1_'></a>[Training Objectives](#toc0_)\n",
    "\n",
    "**Python Basics**\n",
    "\n",
    "- Variables and Data Types  \n",
    "- Data Structures:  \n",
    "  - List  \n",
    "  - Dictionary  \n",
    "- Control Flow:  \n",
    "  - Conditional Statements (`if-else`)  \n",
    "- Functions in Python  \n",
    "\n",
    "**Basic Data Processing using Pandas**  \n",
    "\n",
    "- Importing Data:  \n",
    "  - Reading CSV Files (`pd.read_csv()`)  \n",
    "  - Fetching Data from an API (`yfinance`)  \n",
    "- Pandas DataFrame Operations  \n",
    "- Data Preparation:  \n",
    "  - Checking Data Types  \n",
    "  - Changing Data Types  \n",
    "\n",
    "**Data Analysis and Visualization**  \n",
    "\n",
    "- Data Aggregation:  \n",
    "  - `groupby()`  \n",
    "  - Aggregate Functions (`agg()`)  \n",
    "- Data Visualization:  \n",
    "  - Basic Plotting with Pandas (`df.plot()`)  \n",
    "\n",
    "\n"
   ]
  },
  {
   "cell_type": "markdown",
   "id": "8bf1fbca",
   "metadata": {},
   "source": [
    "# <a id='toc2_'></a>[Introduction to Jupyter Notebook in VS Code](#toc0_)\n",
    "\n",
    "- [Dokumentasi: Jupyter Notebook di VS Code](https://code.visualstudio.com/docs/datascience/jupyter-notebooks#_setting-up-your-environment)\n",
    "\n",
    "## <a id='toc2_1_'></a>[Markdown Cell and Code Cell](#toc0_)\n",
    "\n",
    "Tipe cell dalam notebook:\n",
    "1. Markdown\n",
    "2. Code"
   ]
  },
  {
   "cell_type": "markdown",
   "id": "9a8dd734",
   "metadata": {},
   "source": [
    "### <a id='toc2_1_1_'></a>[Markdown](#toc0_)\n",
    "\n",
    "> - Digunakan untuk menambahkan teks format dan dokumentasi\n",
    "> - Tata cara penulisannya menggunakan sintaks markdown\n",
    "> - [Cheat sheet markdown](https://www.markdownguide.org/cheat-sheet/)"
   ]
  },
  {
   "cell_type": "markdown",
   "metadata": {},
   "source": [
    "### <a id='toc2_1_2_'></a>[Code](#toc0_)"
   ]
  },
  {
   "cell_type": "markdown",
   "id": "1e2a94cd",
   "metadata": {},
   "source": [
    "> - Digunakan untuk menulis dan menjalankan kode python\n",
    "> - Hanya bisa ditulis dengan kode python\n",
    "> - Akan mengeluarkan output apabila menjalankan suatu kode yang dapat mengeluarkan output"
   ]
  },
  {
   "cell_type": "markdown",
   "metadata": {},
   "source": [
    "## <a id='toc2_2_'></a>[Shortcuts](#toc0_)\n",
    "\n",
    "- `Ctrl+S`: Simpan\n",
    "\n",
    "1. Command mode\n",
    "    - `a` : Tambahkan sel di atas\n",
    "    - `b` : Tambahkan sel di bawah\n",
    "    - `d` + `d` : Hapus sel yang dipilih\n",
    "    - `x` : Cut sel yang dipilih\n",
    "    - `c` : Copy sel yang dipilih\n",
    "    - `v` : Paste sel yang dipilih\n",
    "    - `z` : Undo \n",
    "    - `m` : Ubah jenis sel ke Markdown\n",
    "    - `y` : Ubah jenis sel ke kode\n",
    "    - `enter` : enter Edit Mode\n",
    "\n",
    "\n",
    "2. Edit mode (cell berwarna HIJAU)\n",
    "    - `Ctrl+Enter`: Jalankan sel yang saat ini dipilih\n",
    "    - `Shift+Enter`: Jalankan sel yang saat ini dipilih dan sisipkan sel baru di bawahnya (fokus beralih ke sel baru)\n",
    "    - `Alt+Enter`: Jalankan sel yang saat ini dipilih dan sisipkan sel baru di bawahnya (fokus tetap pada sel saat ini)\n",
    "    - `Esc`: Mengubah edit mode menjadi command mode"
   ]
  },
  {
   "cell_type": "markdown",
   "id": "42d309c3",
   "metadata": {},
   "source": [
    "-----------"
   ]
  },
  {
   "cell_type": "markdown",
   "id": "0e199e67",
   "metadata": {},
   "source": [
    "# <a id='toc3_'></a>[Introduction to Python](#toc0_)\n"
   ]
  },
  {
   "cell_type": "markdown",
   "metadata": {},
   "source": [
    "## <a id='toc3_1_'></a>[Variables and Keywords](#toc0_)\n",
    "\n",
    "**Variable** adalah sebuah nama yang dipakai untuk menunjukkan sebuah nilai. Tanda `=` dipakai untuk membuat variable baru. Proses ini sering disebut sebagai **assignment**.\n"
   ]
  },
  {
   "cell_type": "code",
   "execution_count": null,
   "id": "e25f6fe3",
   "metadata": {},
   "outputs": [],
   "source": [
    "# code here\n"
   ]
  },
  {
   "cell_type": "markdown",
   "id": "7d153b97",
   "metadata": {},
   "source": [
    "Python adalah bahasa pemrograman yang **case-sensitive** sehingga penamaan variable menjadi hal yang perlu diperhatikan. Misal penulisan variable `activity` dengan awalan huruf `a` kecil berbeda dengan yang diawali dengan huruf `A` besar."
   ]
  },
  {
   "cell_type": "code",
   "execution_count": null,
   "id": "4d4416dd",
   "metadata": {},
   "outputs": [],
   "source": [
    "# code here\n"
   ]
  },
  {
   "cell_type": "markdown",
   "id": "a6a7fa43",
   "metadata": {},
   "source": [
    "Berikut beberapa anjuran dalam memberikan nama variable pada Python:\n",
    "- Menggunakan kombinasi dari huruf kapital (A-Z), huruf nomina (a-z), angka (0-9).\n",
    "- Special character `!, $ , &, dll` tidak dapat digunakan dalam penamaan variabel.\n",
    "- Tidak boleh menggunakan angka di awal.\n",
    "- Tidak boleh menggunakan keyword pada Python\n",
    "- Bersifat case-sensitive sehingga penamaan variable `algoritma`, `ALGORITMA`, dan `Algoritma` adalah 3 variable yang berbeda"
   ]
  },
  {
   "cell_type": "markdown",
   "id": "66c25a0d",
   "metadata": {},
   "source": [
    "<div class=\"alert alert-info\">\n",
    "  <b>💡 Keywords</b>\n",
    "    <p>adalah kata kunci yang sudah ditetapkan oleh Python sebagai nama yang tidak bisa dipakai baik untuk penamaan fungsi, variabel, dan lainnya. Keyword ditulis dalam lower-case (huruf kecil semua) kecuali keyword <code>True</code>, <code>False</code>, dan <code>None</code>. Sejauh ini (Python 3.10) keyword yang ada pada Python adalah sebagai berikut:</p>\n",
    "</div> \n",
    " "
   ]
  },
  {
   "cell_type": "code",
   "execution_count": null,
   "id": "9d5f7a89",
   "metadata": {},
   "outputs": [],
   "source": [
    "# Cek daftar keyword\n",
    "import keyword\n",
    "keyword.kwlist"
   ]
  },
  {
   "cell_type": "markdown",
   "id": "176f45e5",
   "metadata": {},
   "source": [
    "## <a id='toc3_2_'></a>[Python Data Types](#toc0_)"
   ]
  },
  {
   "cell_type": "markdown",
   "metadata": {},
   "source": [
    "### <a id='toc3_2_1_'></a>[String](#toc0_)\n",
    "\n",
    "Python mewakili string apa pun sebagai objek `str`. Ada beberapa cara untuk membuat nilai string:\n",
    "\n",
    "- menggunakan `''` (yaitu: `'cyber punk 2077'`)\n",
    "- menggunakan `\"\"` (yaitu : `\"Hari Jum'at\"`)\n",
    "- menggunakan `'''` atau `\"\"\"` (yaitu: `'''Andi berkata \"Jum'at Bersih\"'''`)"
   ]
  },
  {
   "cell_type": "code",
   "execution_count": null,
   "id": "70e9c292",
   "metadata": {},
   "outputs": [],
   "source": []
  },
  {
   "cell_type": "markdown",
   "metadata": {},
   "source": [
    "### <a id='toc3_2_2_'></a>[Number](#toc0_)\n",
    "\n",
    "Untuk menyimpan number, python memiliki dua tipe data asli yang disebut `int` dan `float`.\n",
    "- `int` digunakan untuk menyimpan bilangan bulat (yaitu: 1,2,-3)\n",
    "- `float` digunakan untuk menyimpan bilangan real (yaitu: 0.7, -1.8, -1000.0)."
   ]
  },
  {
   "cell_type": "code",
   "execution_count": null,
   "id": "9c8846fa",
   "metadata": {},
   "outputs": [],
   "source": []
  },
  {
   "cell_type": "markdown",
   "id": "f923be06",
   "metadata": {},
   "source": [
    "**Operasi Angka** \\\n",
    "Operator Aritmatika:\n",
    "- `+` - Penambahan\n",
    "- `-` - Pengurangan\n",
    "- `*` - Perkalian\n",
    "- `/` - Divisi\n",
    "- `//` - Pembagian Putaran\n",
    "- `%` - Modul\n",
    "- `**` - Eksponen\n",
    "\n",
    "Operator Perbandingan:\n",
    "- `<` - Lebih kecil dari (yaitu : a < b)\n",
    "- `<=` - Lebih kecil atau sama dengan (yaitu : a <= b)\n",
    "- `>` - Lebih besar dari (yaitu: a > b)\n",
    "- `>=` - Lebih besar atau sama dengan (yaitu: a >= b)\n",
    "- `==` - Sama dengan (yaitu: a == b)\n",
    "- `!=` - Tidak Sama dengan (yaitu: a != b)"
   ]
  },
  {
   "cell_type": "markdown",
   "metadata": {},
   "source": [
    "### <a id='toc3_2_3_'></a>[Boolean](#toc0_)\n",
    "\n",
    "Boolean menyimpan nilai yang sangat sederhana dalam komputer dan pemrograman, `True` atau `False`."
   ]
  },
  {
   "cell_type": "code",
   "execution_count": null,
   "id": "5bb64ad0",
   "metadata": {},
   "outputs": [],
   "source": []
  },
  {
   "cell_type": "markdown",
   "id": "59e25375",
   "metadata": {},
   "source": [
    "**Operasi Boolean** \\\n",
    "Python menyediakan operator logika seperti:\n",
    "- and (yaitu: a and b)\n",
    "- or (yaitu: a or c)\n",
    "- not (yaitu: not a)"
   ]
  },
  {
   "cell_type": "markdown",
   "id": "3b05fb1f",
   "metadata": {},
   "source": [
    "## <a id='toc3_3_'></a>[Python Data Structures](#toc0_)\n",
    "\n",
    "Python memiliki beberapa struktur data bawaan yang sangat penting untuk mengorganisir dan mengelola data secara efisien. Dengan memahami struktur ini, kita akan lebih mudah memanipulasi data, termasuk saat beralih ke *PySpark*. 🚀"
   ]
  },
  {
   "cell_type": "markdown",
   "metadata": {},
   "source": [
    "### <a id='toc3_3_1_'></a>[List](#toc0_)\n",
    "\n",
    "`list` digunakan untuk menyimpan beberapa nilai dalam python. Untuk membuatnya, cukup letakkan nilai di dalam tanda kurung (yaitu: `x = [1,2,3]` )"
   ]
  },
  {
   "cell_type": "code",
   "execution_count": null,
   "id": "18a07f63",
   "metadata": {},
   "outputs": [],
   "source": [
    "x = [1,2,3,4,5]\n",
    "y = [2,3,4,5,6]"
   ]
  },
  {
   "cell_type": "markdown",
   "id": "88cc5082",
   "metadata": {},
   "source": [
    "**Operasi List**\n",
    "- `x.append(a)` : tambahkan a ke x\n",
    "- `x.remove(a)` : hapus a dari x\n",
    "\n",
    "Selain operator yang dikenal sebelumnya, salah satu list yang paling berguna adalah dengan menerapkan fungsi agregasi seperti:\n",
    "- `len(x)` : ekstrak panjang daftar\n",
    "- `a in b` : memeriksa apakah nilai `a` ada di objek daftar `b`\n",
    "- `max(x)` : mendapatkan nilai tertinggi dalam x\n",
    "- `sum(x)` : mendapatkan jumlah nilai dalam x\n",
    "\n",
    "Operasi lain yang harus diketahui dalam daftar adalah pengindeksan:\n",
    "- `x[i]` : mengakses elemen ke-i dari x"
   ]
  },
  {
   "cell_type": "markdown",
   "metadata": {},
   "source": [
    "### <a id='toc3_3_2_'></a>[Dictionary](#toc0_)\n",
    "\n",
    "`Dictionary` mirip seperti daftar (*list*), tetapi menyimpan data dalam bentuk **pasangan kunci-nilai** *(key-value pairs)*, bukan indeks angka. Ini berguna ketika kita ingin mengakses data menggunakan **kunci unik**."
   ]
  },
  {
   "cell_type": "markdown",
   "id": "0ce25454",
   "metadata": {},
   "source": [
    "**Cara Membuat Dictionary**  \n",
    "\n",
    "```python\n",
    "my_dict = {'key1': 'value1', 'key2': 'value2'}\n",
    "```\n",
    "\n",
    "📌 **Penjelasan**: \n",
    "\n",
    "- **`'key1'`** dan **`'key2'`** → **Kunci**  \n",
    "- **`'value1'`** dan **`'value2'`** → **Nilai**  \n",
    "\n",
    "Untuk mengakses nilainya, gunakan kunci seperti ini:  \n",
    "\n",
    "```python\n",
    "print(my_dict['key1'])\n",
    "```\n",
    "\n"
   ]
  },
  {
   "cell_type": "code",
   "execution_count": null,
   "id": "590c0d5d",
   "metadata": {},
   "outputs": [],
   "source": [
    "# code here\n",
    "mydict = {\n",
    "    'nama': \"Dwi\",\n",
    "    'role': \"Instructor\",\n",
    "    'umur': 26,\n",
    "    'number': [1,2,4,5]\n",
    "}\n",
    "\n",
    "mydict['nama']"
   ]
  },
  {
   "cell_type": "markdown",
   "metadata": {},
   "source": [
    "## <a id='toc3_4_'></a>[Struktur Kontrol](#toc0_)\n",
    "\n",
    "Struktur kontrol digunakan untuk mengarahkan aliran eksekusi program.\n",
    "\n",
    "### <a id='toc3_4_1_'></a>[Kondisi (if, elif, else)](#toc0_)\n",
    "\n",
    "Kondisi digunakan untuk memeriksa suatu kondisi dan menjalankan blok kode tertentu berdasarkan hasil evaluasi kondisi tersebut.\n",
    "\n",
    "**Contoh Penggunaan Kondisi:**"
   ]
  },
  {
   "cell_type": "code",
   "execution_count": null,
   "id": "013550d0",
   "metadata": {},
   "outputs": [],
   "source": [
    "x = 3"
   ]
  },
  {
   "cell_type": "code",
   "execution_count": null,
   "id": "466e311c",
   "metadata": {},
   "outputs": [],
   "source": [
    "if x > 5:\n",
    "    print(\"x lebih besar dari 5\")\n",
    "elif x == 5:\n",
    "    print(\"x sama dengan 5\")\n",
    "else:\n",
    "    print(\"x lebih kecil dari 5\")"
   ]
  },
  {
   "cell_type": "markdown",
   "metadata": {},
   "source": [
    "### <a id='toc3_4_2_'></a>[Loop (for)](#toc0_)\n",
    "\n",
    "Loop digunakan untuk menjalankan blok kode berulang kali, biasanya untuk mengiterasi melalui sebuah urutan (seperti list atau range).\n",
    "\n",
    "**Contoh Penggunaan Loop (for):**\n",
    "\n"
   ]
  },
  {
   "cell_type": "code",
   "execution_count": null,
   "id": "745142ab",
   "metadata": {},
   "outputs": [],
   "source": [
    "# Loop for\n",
    "for i in range(5):\n",
    "    print(\"Berhitung\", i)"
   ]
  },
  {
   "cell_type": "markdown",
   "metadata": {},
   "source": [
    "## <a id='toc3_5_'></a>[Fungsi](#toc0_)\n",
    "\n",
    "Fungsi adalah blok kode yang dapat dipanggil untuk melakukan tugas tertentu. Fungsi memungkinkan untuk mengorganisasi kode secara lebih terstruktur dan memfasilitasi penggunaan ulang kode."
   ]
  },
  {
   "cell_type": "code",
   "execution_count": null,
   "id": "c08fcb2b",
   "metadata": {},
   "outputs": [],
   "source": [
    "# Mendefinisikan fungsi\n",
    "def greet(name):\n",
    "    return f\"Hello, {name}!\""
   ]
  },
  {
   "cell_type": "code",
   "execution_count": null,
   "id": "a6f161e2",
   "metadata": {},
   "outputs": [],
   "source": [
    "# Memanggil fungsi\n",
    "greet(name=\"Alice\")"
   ]
  },
  {
   "cell_type": "code",
   "execution_count": null,
   "id": "50ed9380",
   "metadata": {},
   "outputs": [],
   "source": [
    "def greet(name, loc):\n",
    "    return f\"Hello, {name} from {loc}!\""
   ]
  },
  {
   "cell_type": "code",
   "execution_count": null,
   "id": "99f23f6e",
   "metadata": {},
   "outputs": [],
   "source": [
    "greet(name=\"Dwi\", loc=\"Jakarta\")"
   ]
  },
  {
   "cell_type": "markdown",
   "id": "aee3cd85",
   "metadata": {},
   "source": [
    "Dalam contoh di atas:\n",
    "- `greet` adalah nama fungsi yang didefinisikan dengan parameter `name`.\n",
    "- Fungsi `greet` mengembalikan pesan salam yang menyapa `name` yang diberikan.\n",
    "- Saat fungsi dipanggil dengan `greet(\"Alice\")`, fungsi akan menghasilkan output \"Hello, Alice!\".\n",
    "\n",
    "Dengan menggunakan fungsi, kita dapat mengorganisasi kode menjadi unit-unit yang lebih kecil dan spesifik, yang dapat dipanggil kembali (reuse) sesuai kebutuhan dalam program kita."
   ]
  },
  {
   "cell_type": "markdown",
   "id": "0420d8a1",
   "metadata": {},
   "source": [
    "## <a id='toc3_6_'></a>[Library di Python](#toc0_)\n",
    "\n",
    "### <a id='toc3_6_1_'></a>[Installasi](#toc0_)\n",
    "\n",
    "Untuk menginstal sebuah library di Python, kita dapat menggunakan pip, manajer paket bawaan Python.\n",
    "\n",
    "**Contoh Installasi:**\n",
    "\n",
    "Untuk menginstal library `pandas`, kita dapat menjalankan perintah berikut di terminal atau command prompt:\n",
    "\n",
    "```\n",
    "pip install pandas\n",
    "```\n",
    "\n",
    "### <a id='toc3_6_2_'></a>[Import](#toc0_)\n",
    "\n",
    "Setelah menginstal sebuah library, kita perlu mengimpornya ke dalam program Python kita sebelum dapat menggunakannya.\n",
    "\n",
    "Terdapat 2 cara paling umum untuk meng-import library:\n",
    "\n",
    "* Import library dengan statement `import`. Penggunaan fungsi/class menyertakan nama library.\n",
    "\n",
    "```python\n",
    "# cara import library\n",
    "import pandas as pd\n",
    "```\n",
    "\n",
    "* Import fungsi langsung dengan statement `from`. Penggunaan fungsi/class tidak menyertakan nama library.\n",
    "\n",
    "```python\n",
    "# cara import library\n",
    "from confluent_kafka import Producer\n",
    "\n",
    "# cara memanggil function/class\n",
    "producer = Producer()\n",
    "\n",
    "```"
   ]
  },
  {
   "cell_type": "markdown",
   "id": "85f0ed45",
   "metadata": {},
   "source": [
    "### <a id='toc3_6_3_'></a>[Fungsionalitas Library](#toc0_)\n",
    "\n",
    "Setelah mengimpor library, kita dapat mengakses berbagai fungsionalitas yang disediakan olehnya dan mengintegrasikannya ke dalam program Python.\n",
    "\n",
    "#### <a id='toc3_6_3_1_'></a>[Penggunaan Fungsi, Parameter, Argument](#toc0_)\n",
    "\n",
    "Dalam penggunaan fungsi dari library, kita dapat menyediakan parameter yang diperlukan dengan argument yang sesuai.\n",
    "\n",
    "**Contoh Penggunaan Fungsi:**\n",
    "\n",
    "```python\n",
    "# Memanggil fungsi contoh_fungsi dengan parameter dan argument\n",
    "contoh_fungsi(parameter1=argument1, parameter2=argument2)\n",
    "\n",
    "pd.read_csv(path=\"data.csv\", index_col = 1)\n",
    "```\n",
    "\n",
    "Dengan memanfaatkan fungsi dan kemampuan dari library yang telah diimpor, kita dapat membangun aplikasi Python dengan lebih efisien dan efektif sesuai dengan kebutuhan kita."
   ]
  },
  {
   "cell_type": "markdown",
   "id": "31589732",
   "metadata": {},
   "source": [
    "# <a id='toc4_'></a>[Introduction to Library (Package)](#toc0_)"
   ]
  },
  {
   "cell_type": "markdown",
   "metadata": {},
   "source": [
    "## <a id='toc4_1_'></a>[Import a Library](#toc0_)"
   ]
  },
  {
   "cell_type": "code",
   "execution_count": null,
   "id": "a103f967",
   "metadata": {},
   "outputs": [],
   "source": [
    "import pandas as pd"
   ]
  },
  {
   "cell_type": "markdown",
   "id": "0745aca9",
   "metadata": {},
   "source": [
    "Cara untuk melihat versi perpustakaan setelah dimuat adalah dengan memanggilnya *atribut versi*. Namun **library yang berbeda mungkin memiliki gaya penamaan atribut yang berbeda**."
   ]
  },
  {
   "cell_type": "code",
   "execution_count": null,
   "id": "0a4c329c",
   "metadata": {},
   "outputs": [],
   "source": [
    "pd.__version__"
   ]
  },
  {
   "cell_type": "markdown",
   "metadata": {},
   "source": [
    "# <a id='toc5_'></a>[Pandas Library](#toc0_)\n",
    "## <a id='toc5_1_'></a>[Working with DataFrame](#toc0_)\n",
    "\n",
    "`pandas` adalah library yang powerful sebagai tools analisis data dan struktur pada Python. Dengan `pandas`, mengolah data menjadi mudah karena disediakan salah satu objek bernama **DataFrame**. Dengan dataframe kita dapat membaca sebuah file, mengolah suatu data dengan menggunakan operasi seperti join, distinct, group by, agregasi, dan teknik lainnya.\n",
    "\n",
    "> Lebih lengkapnya silahkan kunjungi [official documentation](https://pandas.pydata.org/)"
   ]
  },
  {
   "cell_type": "code",
   "execution_count": null,
   "id": "8faec8c5",
   "metadata": {},
   "outputs": [],
   "source": [
    "# code ini untuk mengatur pemisah angka ribuan\n",
    "pd.options.display.float_format = '{:,.3f}'.format"
   ]
  },
  {
   "cell_type": "markdown",
   "metadata": {},
   "source": [
    "---\n",
    "\n",
    "# <a id='toc6_'></a>[📥 Importing Data](#toc0_)\n",
    "\n",
    "## <a id='toc6_1_'></a>[📊 Data](#toc0_)\n",
    "Data dalam analisis biasanya berupa tabel yang terdiri dari baris dan kolom. Dalam Python, data ini sering direpresentasikan dalam bentuk **DataFrame** menggunakan library Pandas.\n",
    "\n",
    "Sebelum kita mulai mengolah data, kita perlu tahu bagaimana cara membaca berbagai format data yang umum digunakan.\n",
    "\n",
    "## <a id='toc6_2_'></a>[📄 Flat Data](#toc0_)\n",
    "Flat data adalah data yang disimpan dalam format sederhana seperti **CSV (Comma-Separated Values)** atau **TXT**. Format ini umum digunakan karena mudah dibaca dan kompatibel dengan banyak aplikasi.\n",
    "\n",
    "Sekarang, kita akan membahas cara membaca data dari format CSV menggunakan Pandas.\n",
    "\n",
    "## <a id='toc6_3_'></a>[📑 Reading CSV Files (`pd.read_csv()`)](#toc0_)\n",
    "Salah satu cara paling umum untuk membaca data adalah menggunakan **CSV**.\n",
    "\n",
    "### <a id='toc6_3_1_'></a>[🔹 Contoh Membaca File CSV](#toc0_)"
   ]
  },
  {
   "cell_type": "markdown",
   "id": "c23b0fb4",
   "metadata": {},
   "source": [
    "Semua method pada `pandas` dapat dipanggil dengan syntax seperti: `pandas.function_name()`. Langkah pertama yang akan kita lakukan adalah membaca data. Kita dapat menggunakan method `.read_csv()` untuk membaca sebuah file dengan format `.csv`."
   ]
  },
  {
   "cell_type": "code",
   "execution_count": null,
   "id": "fa4a8c6b",
   "metadata": {},
   "outputs": [],
   "source": [
    "btc = pd.read_csv('data_input/BTC-USD.csv')"
   ]
  },
  {
   "cell_type": "code",
   "execution_count": null,
   "id": "4f8ca5b2",
   "metadata": {},
   "outputs": [],
   "source": [
    "btc.head()"
   ]
  },
  {
   "cell_type": "markdown",
   "id": "788da1f6",
   "metadata": {},
   "source": [
    "<div class=\"alert alert-success\">\n",
    "  <b>📌 DataFrame</b>\n",
    "    <p>DataFrame adalah struktur data berbentuk tabel yang memiliki indeks (baris) dan kolom, mirip seperti spreadsheet atau database table. <br>\n",
    "    Namun, terkadang kita ingin mengambil data langsung dari sumber eksternal tanpa mengunduh file terlebih dahulu. Untuk itu, kita bisa menggunakan API.\n",
    "    </p>\n",
    "</div> \n",
    " "
   ]
  },
  {
   "cell_type": "markdown",
   "metadata": {},
   "source": [
    "---\n",
    "\n",
    "# <a id='toc7_'></a>[🌐 Fetching Data from an API (`yfinance`)](#toc0_)\n",
    "\n",
    "## <a id='toc7_1_'></a>[🔍 Apa itu API?](#toc0_)\n",
    "API (**Application Programming Interface**) adalah perantara yang memungkinkan kita mengambil data dari layanan eksternal tanpa perlu mengunduh file secara manual.\n",
    "\n",
    "## <a id='toc7_2_'></a>[📈 Mengenal `yfinance`](#toc0_)\n",
    "[`yfinance`](https://github.com/ranaroussi/yfinance) adalah library yang digunakan untuk mengambil data keuangan dari Yahoo Finance dengan mudah.\n",
    "\n",
    "## <a id='toc7_3_'></a>[🔹 Cara Menggunakan `yfinance`](#toc0_)\n",
    "Untuk mengambil data dari Yahoo Finance, kita bisa menggunakan fungsi `download()`:"
   ]
  },
  {
   "cell_type": "markdown",
   "id": "1ffd1ce9",
   "metadata": {},
   "source": [
    "Berikut adalah parameter utama dalam fungsi `download()` dari `yfinance`\n",
    "\n",
    "1. **tickers** (str atau list)  \n",
    "   - Simbol saham atau aset yang ingin diambil datanya.  \n",
    "   - Contoh: `\"BTC-USD\"` atau `[\"BTC-USD\", \"ETH-USD\"]`\n",
    "\n",
    "2. **period** (str)  \n",
    "   - Rentang waktu data yang ingin diambil.  \n",
    "   - Contoh: `\"1mo\"` (1 bulan), `\"5d\"` (5 hari), `\"1y\"` (1 tahun)  \n",
    "   - Opsi lain: `\"max\"` (data historis maksimum tersedia)\n",
    "\n",
    "3. **interval** (str)  \n",
    "   - Interval waktu antara data yang diambil.  \n",
    "   - Contoh: `\"1d\"` (harian), `\"5m\"` (5 menit), `\"1h\"` (1 jam)\n",
    "\n",
    "4. **start** dan **end** (str, opsional)  \n",
    "   - Digunakan jika ingin mengambil data dalam rentang waktu spesifik.  \n",
    "   - Format: `\"YYYY-MM-DD\"`  \n",
    "   - Contoh: `start=\"2023-01-01\", end=\"2023-06-01\"`\n",
    "\n",
    "5. **auto_adjust** (bool, default: `True`)  \n",
    "   - Jika `True`, harga akan otomatis disesuaikan dengan pembagian dividen dan stock split.\n",
    "\n",
    "6. **actions** (bool, default: `False`)  \n",
    "   - Jika `True`, akan menyertakan informasi tentang dividen dan stock split.\n",
    "\n",
    "7. **threads** (bool, default: `True`)  \n",
    "   - Jika `True`, menggunakan multi-threading untuk mempercepat pengambilan data.\n"
   ]
  },
  {
   "cell_type": "code",
   "execution_count": null,
   "id": "4bce8e0b",
   "metadata": {},
   "outputs": [],
   "source": [
    "import yfinance as yf"
   ]
  },
  {
   "cell_type": "code",
   "execution_count": null,
   "id": "e8378e17",
   "metadata": {},
   "outputs": [],
   "source": []
  },
  {
   "cell_type": "markdown",
   "id": "c9e4f7f7",
   "metadata": {},
   "source": [
    "---\n",
    "\n",
    "# <a id='toc8_'></a>[⚙️ Pandas DataFrame Operations](#toc0_)\n",
    "\n",
    "## <a id='toc8_1_'></a>[✂️ Subsetting](#toc0_)\n",
    "\n",
    "Subsetting adalah proses memilih sebagian data dari DataFrame berdasarkan kolom atau baris tertentu. Ini penting untuk:\n",
    "- ✅ Memfokuskan analisis pada bagian data yang relevan\n",
    "- ✅ Mengurangi ukuran dataset agar lebih mudah diproses"
   ]
  },
  {
   "cell_type": "markdown",
   "metadata": {},
   "source": [
    "### <a id='toc8_1_1_'></a>[🔹 Contoh Subsetting Kolom](#toc0_)"
   ]
  },
  {
   "cell_type": "code",
   "execution_count": null,
   "id": "36edf494",
   "metadata": {},
   "outputs": [],
   "source": []
  },
  {
   "cell_type": "markdown",
   "id": "f74bf72f",
   "metadata": {},
   "source": [
    "Namun, data yang kita miliki memiliki struktur yang lebih kompleks, seperti MultiIndex. Mari kita bahas cara mengakses data dalam struktur seperti itu."
   ]
  },
  {
   "cell_type": "markdown",
   "id": "920dc9da",
   "metadata": {},
   "source": [
    "## <a id='toc8_2_'></a>[🔄 Slicing MultiIndex DataFrame](#toc0_)\n",
    "Kadang, dataset memiliki **MultiIndex**, yaitu indeks berjenjang yang membuat pengaksesan data lebih kompleks.\n",
    "\n",
    "### <a id='toc8_2_1_'></a>[🔹 Problem MultiIndex](#toc0_)\n",
    "Saat mengambil data dalam DataFrame MultiIndex, kita tidak bisa menggunakan indeks biasa. Kita bisa menggunakan **`.xs()`** untuk mengambil data dari indeks tertentu."
   ]
  },
  {
   "cell_type": "markdown",
   "metadata": {},
   "source": [
    "### <a id='toc8_2_2_'></a>[🔹 Contoh Menggunakan `.xs()`](#toc0_)\n",
    "\n",
    "<button type=\"button\" class=\"btn btn-success\">💡 Solusi 💡</button>\n",
    "\n",
    "**Solusi:** Kita harus menggunakan method `.xs()` (cross-section) untuk mengambil kolom (`axis=1`) pada level dalam\n",
    "\n",
    "- `key`: kolom yang kita ingin ambil\n",
    "- `level`: kolom tersebut ada di level apa?\n",
    "- `axis=1`: merujuk pada kolom"
   ]
  },
  {
   "cell_type": "code",
   "execution_count": null,
   "id": "c8ad6c20",
   "metadata": {},
   "outputs": [],
   "source": []
  },
  {
   "cell_type": "markdown",
   "id": "6f1ee91c",
   "metadata": {},
   "source": [
    "<div class=\"alert alert-success\">\n",
    "  <b>📌 TASK</b>\n",
    "    <p>Buatlah dataframe baru dengan nama variabel `df_btc` serta atur supaya index pada dataframe ter-reset. (Hint: Gunakan <code>.reset_index()</code>)\n",
    "    </p>\n",
    "</div> "
   ]
  },
  {
   "cell_type": "code",
   "execution_count": null,
   "id": "99e83a37",
   "metadata": {},
   "outputs": [],
   "source": []
  },
  {
   "cell_type": "code",
   "execution_count": null,
   "id": "7ab86e76",
   "metadata": {},
   "outputs": [],
   "source": []
  },
  {
   "cell_type": "markdown",
   "id": "740ae29c",
   "metadata": {},
   "source": [
    "---\n",
    "\n",
    "# <a id='toc9_'></a>[📊 Data Analysis and Visualization](#toc0_)\n",
    "\n",
    "Untuk menganalisis data lebih lanjut, kita akan mempelajari bagaimana cara agregasi data serta melakukan visualisasi sederhana supaya kita bisa memahami pola dan tren yang ada dalam data dengan lebih mudah.\n",
    "\n",
    "### <a id='toc9_1_1_'></a>[🔍 Data Aggregation](#toc0_)\n",
    "\n",
    "Agregasi data adalah proses mengelompokkan data dan menghitung statistik tertentu untuk setiap grup. Biasanya di dunia nyata, teknik ini sangat dibutuhkan untuk memahami informasi penting dari data yang besar."
   ]
  },
  {
   "cell_type": "markdown",
   "metadata": {},
   "source": [
    "#### <a id='toc9_1_1_1_'></a>[🧑‍💻 `groupby()`](#toc0_)\n",
    "\n",
    "Metode `groupby()` adalah cara utama untuk mengelompokkan data berdasarkan satu atau lebih kolom. Setelah dikelompokkan, kita bisa melakukan berbagai operasi agregasi seperti menghitung rata-rata, jumlah, atau menghitung data unik pada setiap kelompok.\n",
    "\n",
    "📌 Contoh: ketika kita ingin mengetahui harga rata-rata BTC perhari dari data `df_btc` kita:"
   ]
  },
  {
   "cell_type": "markdown",
   "id": "9444a0ca",
   "metadata": {},
   "source": [
    "1️⃣ Kita akan mengambil hanya tanggal tanpa waktu dengan membuat kolom baru untuk melakukan tranformasi ke `date` (tanggal)"
   ]
  },
  {
   "cell_type": "code",
   "execution_count": null,
   "id": "4ff8500a",
   "metadata": {},
   "outputs": [],
   "source": []
  },
  {
   "cell_type": "markdown",
   "id": "ebbf0d0f",
   "metadata": {},
   "source": [
    "\n",
    "<div class=\"alert alert-secondary\">\n",
    "<p>\n",
    "\n",
    "Ketika sebuah kolom sudah menjadi `datetime64`, kita dapat mengambil bagian waktu lebih spesifik seperti tahun, bulan, hari, dan jam.\n",
    "\n",
    "**Date component (numeric)**\n",
    "- `.dt.year` untuk komponen tahun\n",
    "- `.dt.month` untuk komponen bulan (dalam angka)\n",
    "- `.dt.day` untuk komponen tanggal (dalam angka)\n",
    "- `.dt.dayofweek` untuk ekstrak index hari dalam seminggu; Monday = 0 dan Sunday = 6\n",
    "\n",
    "**Date component (string)**\n",
    "- `.dt.month_name()` untuk komponen nama bulan\n",
    "- `.dt.day_name()`untuk komponen nama hari\n",
    "\n",
    "**Time component**\n",
    "- `.dt.hour` untuk komponen jam\n",
    "- `.dt.minute` untuk komponen menit\n",
    "- `.dt.second` untuk komponen detik\n",
    "\n",
    "> [Dokumentasi: datetime properties](https://pandas.pydata.org/pandas-docs/stable/reference/series.html#datetimelike-properties)\n",
    "\n",
    "\n",
    "</p>\n",
    "</div> \n",
    "\n",
    "<div class=\"alert alert-secondary\">\n",
    "<p>\n",
    "\n",
    "Selain digunakan untuk melakukan partisi, kita juga dapat melakukan transformasi object `datetime64[ns]` ke dalam format periode menggunakan method `.to_period()`.\n",
    "\n",
    "- `.dt.to_period('D')` untuk mengubah ke format **D**aily (tanggal lengkap)\n",
    "- `.dt.to_period('W')` untuk mengubah ke format **W**eekly (awal dan akhir minggu)\n",
    "- `.dt.to_period('M')` untuk mengubah ke format **M**onthly (year-month)\n",
    "- `.dt.to_period('Q')` untuk mengubah ke format **Q**uarterly (year-quarter)\n",
    "\n",
    "\n",
    "</p>\n",
    "</div> "
   ]
  },
  {
   "cell_type": "markdown",
   "id": "b1143e23",
   "metadata": {},
   "source": [
    "2️⃣ Aggregasi: Mengelompokkan data berdasarkan tanggal dan menghitung rata-rata harga 'Close' untuk setiap hari"
   ]
  },
  {
   "cell_type": "code",
   "execution_count": null,
   "id": "90012bd7",
   "metadata": {},
   "outputs": [],
   "source": []
  },
  {
   "cell_type": "markdown",
   "metadata": {},
   "source": [
    "### <a id='toc9_1_2_'></a>[Additional: Datetime Partition](#toc0_)"
   ]
  },
  {
   "cell_type": "markdown",
   "metadata": {},
   "source": [
    "#### <a id='toc9_1_2_1_'></a>[⚙️ Aggregate Functions (`agg()`)](#toc0_)\n",
    "\n",
    "Misal kita ingin menghitung lebih dari satu fungsi agregat dalam satu waktu, kita bisa menambahkan fungsi `agg()`. Fungsi ini memungkinkan kita untuk melakukan berbagai perhitungan dalam satu langkah.\n",
    "\n",
    "Contoh penggunaan `agg()`:"
   ]
  },
  {
   "cell_type": "code",
   "execution_count": null,
   "id": "a4391328",
   "metadata": {},
   "outputs": [],
   "source": [
    "# Menghitung rata-rata dan standar deviasi untuk kolom 'Close' dan 'Volume'\n"
   ]
  },
  {
   "cell_type": "markdown",
   "id": "f1897fa4",
   "metadata": {},
   "source": [
    "Selanjutnya, setelah mengelompokkan dan menganalisis data, kita akan belajar bagaimana cara memvisualisasikan data yang sudah kita agregasi supaya hasil analisis kita lebih mudah dipahami. 🌟"
   ]
  },
  {
   "cell_type": "markdown",
   "metadata": {},
   "source": [
    "\n",
    "---\n",
    "\n",
    "\n",
    "### <a id='toc9_1_3_'></a>[📈 Data Visualization](#toc0_)\n",
    "\n",
    "Pandas juga menyediakan tools untuk melakukan visualisasi secara sederhana dan cepat, yang memungkinkan kita untuk melihat tren atau pola dalam data.\n",
    "\n",
    "#### <a id='toc9_1_3_1_'></a>[📊 Basic Plotting with Pandas (`df.plot()`)](#toc0_)\n",
    "\n",
    "Karena data yang kita miliki adalah data saham, untuk mempermudah memahaminya, kita bisa melakukan visualisasi menggunakan line plot untuk melihat tren harga BTC."
   ]
  },
  {
   "cell_type": "code",
   "execution_count": null,
   "id": "d5c55ef5",
   "metadata": {},
   "outputs": [],
   "source": []
  },
  {
   "cell_type": "markdown",
   "id": "511d1d19",
   "metadata": {},
   "source": [
    "Dengan menggunakan `df.plot()`, kita dapat dengan mudah melihat bagaimana harga BTC bergerak dari waktu ke waktu, sehingga membantu kita dalam pengambilan keputusan."
   ]
  }
 ],
 "metadata": {
  "kernelspec": {
   "display_name": "kafka",
   "language": "python",
   "name": "python3"
  },
  "language_info": {
   "codemirror_mode": {
    "name": "ipython",
    "version": 3
   },
   "file_extension": ".py",
   "mimetype": "text/x-python",
   "name": "python",
   "nbconvert_exporter": "python",
   "pygments_lexer": "ipython3",
   "version": "3.12.0"
  },
  "toc": {
   "base_numbering": 1,
   "nav_menu": {},
   "number_sections": true,
   "sideBar": true,
   "skip_h1_title": false,
   "title_cell": "Table of Contents",
   "title_sidebar": "Contents",
   "toc_cell": false,
   "toc_position": {},
   "toc_section_display": true,
   "toc_window_display": false
  }
 },
 "nbformat": 4,
 "nbformat_minor": 5
}
